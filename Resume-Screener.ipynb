{
 "cells": [
  {
   "cell_type": "code",
   "execution_count": 1,
   "id": "676b7ce5",
   "metadata": {},
   "outputs": [],
   "source": [
    "import numpy as np\n",
    "import pandas as pd\n",
    "import matplotlib.pyplot as plt\n",
    "import warnings\n",
    "warnings.filterwarnings('ignore')"
   ]
  },
  {
   "cell_type": "code",
   "execution_count": 2,
   "id": "1b7edc41",
   "metadata": {},
   "outputs": [
    {
     "data": {
      "text/plain": [
       "966"
      ]
     },
     "execution_count": 2,
     "metadata": {},
     "output_type": "execute_result"
    }
   ],
   "source": [
    "resumeData = pd.read_csv('ResumeDataSet.csv')\n",
    "original_len = len(resumeData)\n",
    "original_len"
   ]
  },
  {
   "cell_type": "code",
   "execution_count": 3,
   "id": "fd90ec1e",
   "metadata": {},
   "outputs": [
    {
     "data": {
      "text/html": [
       "<div>\n",
       "<style scoped>\n",
       "    .dataframe tbody tr th:only-of-type {\n",
       "        vertical-align: middle;\n",
       "    }\n",
       "\n",
       "    .dataframe tbody tr th {\n",
       "        vertical-align: top;\n",
       "    }\n",
       "\n",
       "    .dataframe thead th {\n",
       "        text-align: right;\n",
       "    }\n",
       "</style>\n",
       "<table border=\"1\" class=\"dataframe\">\n",
       "  <thead>\n",
       "    <tr style=\"text-align: right;\">\n",
       "      <th></th>\n",
       "      <th>Category</th>\n",
       "      <th>Resume</th>\n",
       "    </tr>\n",
       "  </thead>\n",
       "  <tbody>\n",
       "    <tr>\n",
       "      <th>0</th>\n",
       "      <td>Data Science</td>\n",
       "      <td>Skills * Programming Languages: Python (pandas...</td>\n",
       "    </tr>\n",
       "    <tr>\n",
       "      <th>1</th>\n",
       "      <td>Data Science</td>\n",
       "      <td>Education Details \\r\\nMay 2013 to May 2017 B.E...</td>\n",
       "    </tr>\n",
       "    <tr>\n",
       "      <th>2</th>\n",
       "      <td>Data Science</td>\n",
       "      <td>Areas of Interest Deep Learning, Control Syste...</td>\n",
       "    </tr>\n",
       "    <tr>\n",
       "      <th>3</th>\n",
       "      <td>Data Science</td>\n",
       "      <td>Skills Ã¢Â€Â¢ R Ã¢Â€Â¢ Python Ã¢Â€Â¢ SAP HANA ...</td>\n",
       "    </tr>\n",
       "    <tr>\n",
       "      <th>4</th>\n",
       "      <td>Data Science</td>\n",
       "      <td>Education Details \\r\\n MCA   YMCAUST,  Faridab...</td>\n",
       "    </tr>\n",
       "    <tr>\n",
       "      <th>...</th>\n",
       "      <td>...</td>\n",
       "      <td>...</td>\n",
       "    </tr>\n",
       "    <tr>\n",
       "      <th>961</th>\n",
       "      <td>Testing</td>\n",
       "      <td>Skill Set OS Windows XP/7/8/8.1/10 Database MY...</td>\n",
       "    </tr>\n",
       "    <tr>\n",
       "      <th>962</th>\n",
       "      <td>Java Developer</td>\n",
       "      <td>Mustafa Officewala Room no.13, Jaya Apartment,...</td>\n",
       "    </tr>\n",
       "    <tr>\n",
       "      <th>963</th>\n",
       "      <td>Java Developer</td>\n",
       "      <td>Mustafa Officewala Room no.13, Jaya Apartment,...</td>\n",
       "    </tr>\n",
       "    <tr>\n",
       "      <th>964</th>\n",
       "      <td>Java Developer</td>\n",
       "      <td>S A R T H A K   C H A U H A N + 9 1 - 7 9 9 0 ...</td>\n",
       "    </tr>\n",
       "    <tr>\n",
       "      <th>965</th>\n",
       "      <td>Java Developer</td>\n",
       "      <td>S A R T H A K   C H A U H A N + 9 1 - 7 9 9 0 ...</td>\n",
       "    </tr>\n",
       "  </tbody>\n",
       "</table>\n",
       "<p>966 rows × 2 columns</p>\n",
       "</div>"
      ],
      "text/plain": [
       "           Category                                             Resume\n",
       "0      Data Science  Skills * Programming Languages: Python (pandas...\n",
       "1      Data Science  Education Details \\r\\nMay 2013 to May 2017 B.E...\n",
       "2      Data Science  Areas of Interest Deep Learning, Control Syste...\n",
       "3      Data Science  Skills Ã¢Â€Â¢ R Ã¢Â€Â¢ Python Ã¢Â€Â¢ SAP HANA ...\n",
       "4      Data Science  Education Details \\r\\n MCA   YMCAUST,  Faridab...\n",
       "..              ...                                                ...\n",
       "961         Testing  Skill Set OS Windows XP/7/8/8.1/10 Database MY...\n",
       "962  Java Developer  Mustafa Officewala Room no.13, Jaya Apartment,...\n",
       "963  Java Developer  Mustafa Officewala Room no.13, Jaya Apartment,...\n",
       "964  Java Developer  S A R T H A K   C H A U H A N + 9 1 - 7 9 9 0 ...\n",
       "965  Java Developer  S A R T H A K   C H A U H A N + 9 1 - 7 9 9 0 ...\n",
       "\n",
       "[966 rows x 2 columns]"
      ]
     },
     "execution_count": 3,
     "metadata": {},
     "output_type": "execute_result"
    }
   ],
   "source": [
    "resumeData"
   ]
  },
  {
   "cell_type": "code",
   "execution_count": 4,
   "id": "7268f296",
   "metadata": {},
   "outputs": [],
   "source": [
    "import re\n",
    "def cleanResume(resumeText):\n",
    "    resumeText = re.sub('http[\\S+\\s]*', ' ', resumeText)  # remove URLs\n",
    "    resumeText = re.sub('RT|cc', ' ', resumeText)  # remove RT and cc\n",
    "    resumeText = re.sub('#\\S+', '', resumeText)  # remove hashtags\n",
    "    resumeText = re.sub('@\\S+', '  ', resumeText)  # remove mentions\n",
    "    resumeText = re.sub('[%s]' % re.escape(\"\"\"!\"#$%&'()*+,-./:;<=>?@[\\]^_`{|}~\"\"\"), ' ', resumeText)  # remove punctuations\n",
    "    resumeText = re.sub(r'[^\\x00-\\x7f]',r' ', resumeText) \n",
    "    resumeText = re.sub('\\s+', ' ', resumeText)  # remove extra whitespace\n",
    "    return resumeText\n",
    "    \n",
    "resumeData['cleaned_resume'] = resumeData.Resume.apply(lambda x: cleanResume(x))\n",
    "resumeData['cleaned_resume'] = resumeData['cleaned_resume'].str.lower()"
   ]
  },
  {
   "cell_type": "code",
   "execution_count": 5,
   "id": "bd0a11e0",
   "metadata": {},
   "outputs": [
    {
     "data": {
      "text/html": [
       "<div>\n",
       "<style scoped>\n",
       "    .dataframe tbody tr th:only-of-type {\n",
       "        vertical-align: middle;\n",
       "    }\n",
       "\n",
       "    .dataframe tbody tr th {\n",
       "        vertical-align: top;\n",
       "    }\n",
       "\n",
       "    .dataframe thead th {\n",
       "        text-align: right;\n",
       "    }\n",
       "</style>\n",
       "<table border=\"1\" class=\"dataframe\">\n",
       "  <thead>\n",
       "    <tr style=\"text-align: right;\">\n",
       "      <th></th>\n",
       "      <th>Category</th>\n",
       "      <th>Resume</th>\n",
       "      <th>cleaned_resume</th>\n",
       "    </tr>\n",
       "  </thead>\n",
       "  <tbody>\n",
       "    <tr>\n",
       "      <th>0</th>\n",
       "      <td>Data Science</td>\n",
       "      <td>Skills * Programming Languages: Python (pandas...</td>\n",
       "      <td>skills programming languages python pandas num...</td>\n",
       "    </tr>\n",
       "    <tr>\n",
       "      <th>1</th>\n",
       "      <td>Data Science</td>\n",
       "      <td>Education Details \\r\\nMay 2013 to May 2017 B.E...</td>\n",
       "      <td>education details may 2013 to may 2017 b e uit...</td>\n",
       "    </tr>\n",
       "    <tr>\n",
       "      <th>2</th>\n",
       "      <td>Data Science</td>\n",
       "      <td>Areas of Interest Deep Learning, Control Syste...</td>\n",
       "      <td>areas of interest deep learning control system...</td>\n",
       "    </tr>\n",
       "    <tr>\n",
       "      <th>3</th>\n",
       "      <td>Data Science</td>\n",
       "      <td>Skills Ã¢Â€Â¢ R Ã¢Â€Â¢ Python Ã¢Â€Â¢ SAP HANA ...</td>\n",
       "      <td>skills r python sap hana tableau sap hana sql ...</td>\n",
       "    </tr>\n",
       "    <tr>\n",
       "      <th>4</th>\n",
       "      <td>Data Science</td>\n",
       "      <td>Education Details \\r\\n MCA   YMCAUST,  Faridab...</td>\n",
       "      <td>education details mca ymcaust faridabad haryan...</td>\n",
       "    </tr>\n",
       "    <tr>\n",
       "      <th>...</th>\n",
       "      <td>...</td>\n",
       "      <td>...</td>\n",
       "      <td>...</td>\n",
       "    </tr>\n",
       "    <tr>\n",
       "      <th>961</th>\n",
       "      <td>Testing</td>\n",
       "      <td>Skill Set OS Windows XP/7/8/8.1/10 Database MY...</td>\n",
       "      <td>skill set os windows xp 7 8 8 1 10 database my...</td>\n",
       "    </tr>\n",
       "    <tr>\n",
       "      <th>962</th>\n",
       "      <td>Java Developer</td>\n",
       "      <td>Mustafa Officewala Room no.13, Jaya Apartment,...</td>\n",
       "      <td>mustafa officewala room no 13 jaya apartment t...</td>\n",
       "    </tr>\n",
       "    <tr>\n",
       "      <th>963</th>\n",
       "      <td>Java Developer</td>\n",
       "      <td>Mustafa Officewala Room no.13, Jaya Apartment,...</td>\n",
       "      <td>mustafa officewala room no 13 jaya apartment t...</td>\n",
       "    </tr>\n",
       "    <tr>\n",
       "      <th>964</th>\n",
       "      <td>Java Developer</td>\n",
       "      <td>S A R T H A K   C H A U H A N + 9 1 - 7 9 9 0 ...</td>\n",
       "      <td>s a r t h a k c h a u h a n 9 1 7 9 9 0 2 0 3 ...</td>\n",
       "    </tr>\n",
       "    <tr>\n",
       "      <th>965</th>\n",
       "      <td>Java Developer</td>\n",
       "      <td>S A R T H A K   C H A U H A N + 9 1 - 7 9 9 0 ...</td>\n",
       "      <td>s a r t h a k c h a u h a n 9 1 7 9 9 0 2 0 3 ...</td>\n",
       "    </tr>\n",
       "  </tbody>\n",
       "</table>\n",
       "<p>966 rows × 3 columns</p>\n",
       "</div>"
      ],
      "text/plain": [
       "           Category                                             Resume  \\\n",
       "0      Data Science  Skills * Programming Languages: Python (pandas...   \n",
       "1      Data Science  Education Details \\r\\nMay 2013 to May 2017 B.E...   \n",
       "2      Data Science  Areas of Interest Deep Learning, Control Syste...   \n",
       "3      Data Science  Skills Ã¢Â€Â¢ R Ã¢Â€Â¢ Python Ã¢Â€Â¢ SAP HANA ...   \n",
       "4      Data Science  Education Details \\r\\n MCA   YMCAUST,  Faridab...   \n",
       "..              ...                                                ...   \n",
       "961         Testing  Skill Set OS Windows XP/7/8/8.1/10 Database MY...   \n",
       "962  Java Developer  Mustafa Officewala Room no.13, Jaya Apartment,...   \n",
       "963  Java Developer  Mustafa Officewala Room no.13, Jaya Apartment,...   \n",
       "964  Java Developer  S A R T H A K   C H A U H A N + 9 1 - 7 9 9 0 ...   \n",
       "965  Java Developer  S A R T H A K   C H A U H A N + 9 1 - 7 9 9 0 ...   \n",
       "\n",
       "                                        cleaned_resume  \n",
       "0    skills programming languages python pandas num...  \n",
       "1    education details may 2013 to may 2017 b e uit...  \n",
       "2    areas of interest deep learning control system...  \n",
       "3    skills r python sap hana tableau sap hana sql ...  \n",
       "4    education details mca ymcaust faridabad haryan...  \n",
       "..                                                 ...  \n",
       "961  skill set os windows xp 7 8 8 1 10 database my...  \n",
       "962  mustafa officewala room no 13 jaya apartment t...  \n",
       "963  mustafa officewala room no 13 jaya apartment t...  \n",
       "964  s a r t h a k c h a u h a n 9 1 7 9 9 0 2 0 3 ...  \n",
       "965  s a r t h a k c h a u h a n 9 1 7 9 9 0 2 0 3 ...  \n",
       "\n",
       "[966 rows x 3 columns]"
      ]
     },
     "execution_count": 5,
     "metadata": {},
     "output_type": "execute_result"
    }
   ],
   "source": [
    "resumeData"
   ]
  },
  {
   "cell_type": "code",
   "execution_count": 6,
   "id": "f3d1392a",
   "metadata": {},
   "outputs": [],
   "source": [
    "import nltk"
   ]
  },
  {
   "cell_type": "code",
   "execution_count": 7,
   "id": "255276f2",
   "metadata": {},
   "outputs": [],
   "source": [
    "from nltk.corpus import stopwords"
   ]
  },
  {
   "cell_type": "code",
   "execution_count": 8,
   "id": "c4f6fa69",
   "metadata": {},
   "outputs": [
    {
     "name": "stdout",
     "output_type": "stream",
     "text": [
      "{'over', 'no', 'whom', 'why', 'is', \"you'll\", 'did', 'haven', 'under', 'hers', 'some', 'o', 'those', 'where', \"wouldn't\", 'that', 'these', 'be', 'a', 'themselves', 'an', 'them', \"hadn't\", 'against', \"needn't\", \"hasn't\", 'she', 'myself', 'been', 'hasn', 'while', 'it', 'both', 'having', 'its', 'ours', 'until', 'wouldn', 'yourselves', 'here', 'ourselves', 'from', 'isn', 'further', 'and', '``', 'up', 'just', 'own', \"mightn't\", 'doesn', 'nor', 'mightn', 'before', 'what', 'i', 'once', 'how', 'by', \"wasn't\", 'd', 'because', \"you're\", 'ain', 'herself', 'couldn', 'only', 'out', \"won't\", 'weren', 'me', \"shouldn't\", 'most', 'more', 'we', \"weren't\", 'through', \"''\", 'during', 'won', 'mustn', 've', \"shan't\", 'into', 'was', 'all', 'were', 'or', 'your', 'needn', \"isn't\", 'same', 'they', 'shan', 'her', 'again', 'after', 'being', 'yours', 'of', \"mustn't\", \"doesn't\", 'm', \"should've\", 'not', 'do', 'don', 'to', 'yourself', 'when', 'are', \"you'd\", 'so', 'itself', 'each', 'with', 'have', 'ma', 'in', 'then', 'than', 'does', 'he', \"you've\", 'who', 'this', 'am', 't', 'below', 'y', 'didn', 'has', 'between', 'few', 'himself', 'theirs', \"that'll\", 'on', 'should', 'at', 'll', 'their', 'his', 'any', \"haven't\", 'aren', \"didn't\", 'above', 'which', \"it's\", 'too', 'hadn', 'such', 'our', 'as', 'now', \"don't\", 'had', 's', \"aren't\", 'but', 'there', 're', 'about', 'for', \"couldn't\", \"she's\", 'you', 'off', 'if', 'other', 'my', 'him', 'very', 'can', 'doing', 'will', 'shouldn', 'the', 'down', 'wasn'}\n"
     ]
    }
   ],
   "source": [
    "stopword_list = set(stopwords.words('english')+['``',\"''\"])\n",
    "print(stopword_list)"
   ]
  },
  {
   "cell_type": "code",
   "execution_count": 9,
   "id": "c15b446e",
   "metadata": {},
   "outputs": [
    {
     "data": {
      "text/plain": [
       "'skills c basics iot python matlab data science machine learning html microsoft word microsoft excel microsoft powerpoint recognition academic secured first place b tech education details august 2014 may 2018 b tech ghatkesar andhra pradesh aurora scientific technological institute june 2012 may 2014 secondary education warangal telangana sr junior college data science skill details ms office exprience less 1 year months c exprience less 1 year months machine learning exprience less 1 year months data science exprience less 1 year months matlab exprience less 1 year monthscompany details company description'"
      ]
     },
     "execution_count": 9,
     "metadata": {},
     "output_type": "execute_result"
    }
   ],
   "source": [
    "resumeData.cleaned_resume=resumeData.cleaned_resume.apply(lambda x : \" \".join(x for x in x.split() if x not in stopword_list))\n",
    "resumeData['cleaned_resume'][5]"
   ]
  },
  {
   "cell_type": "code",
   "execution_count": 10,
   "id": "2bf4b50b",
   "metadata": {},
   "outputs": [
    {
     "name": "stderr",
     "output_type": "stream",
     "text": [
      "[nltk_data] Downloading package punkt to\n",
      "[nltk_data]     C:\\Users\\HP\\AppData\\Roaming\\nltk_data...\n",
      "[nltk_data]   Package punkt is already up-to-date!\n"
     ]
    },
    {
     "data": {
      "text/plain": [
       "True"
      ]
     },
     "execution_count": 10,
     "metadata": {},
     "output_type": "execute_result"
    }
   ],
   "source": [
    "import nltk\n",
    "nltk.download('punkt')"
   ]
  },
  {
   "cell_type": "code",
   "execution_count": 11,
   "id": "ba993693",
   "metadata": {},
   "outputs": [],
   "source": [
    "from nltk import tokenize\n",
    "from nltk.tokenize import word_tokenize,sent_tokenize\n",
    "from nltk.stem import WordNetLemmatizer"
   ]
  },
  {
   "cell_type": "code",
   "execution_count": 12,
   "id": "6b084b8f",
   "metadata": {},
   "outputs": [],
   "source": [
    "resumeData['cleaned_resume']=resumeData.cleaned_resume.apply(word_tokenize)"
   ]
  },
  {
   "cell_type": "code",
   "execution_count": 13,
   "id": "7a948a17",
   "metadata": {},
   "outputs": [
    {
     "name": "stderr",
     "output_type": "stream",
     "text": [
      "[nltk_data] Downloading package wordnet to\n",
      "[nltk_data]     C:\\Users\\HP\\AppData\\Roaming\\nltk_data...\n",
      "[nltk_data]   Package wordnet is already up-to-date!\n"
     ]
    },
    {
     "data": {
      "text/plain": [
       "True"
      ]
     },
     "execution_count": 13,
     "metadata": {},
     "output_type": "execute_result"
    }
   ],
   "source": [
    "import nltk\n",
    "nltk.download('wordnet')"
   ]
  },
  {
   "cell_type": "code",
   "execution_count": 14,
   "id": "95d49f4b",
   "metadata": {},
   "outputs": [
    {
     "name": "stderr",
     "output_type": "stream",
     "text": [
      "[nltk_data] Downloading package omw-1.4 to\n",
      "[nltk_data]     C:\\Users\\HP\\AppData\\Roaming\\nltk_data...\n",
      "[nltk_data]   Package omw-1.4 is already up-to-date!\n"
     ]
    },
    {
     "data": {
      "text/plain": [
       "True"
      ]
     },
     "execution_count": 14,
     "metadata": {},
     "output_type": "execute_result"
    }
   ],
   "source": [
    "import nltk\n",
    "nltk.download('omw-1.4')"
   ]
  },
  {
   "cell_type": "code",
   "execution_count": 15,
   "id": "fe3bd3b9",
   "metadata": {},
   "outputs": [
    {
     "data": {
      "text/html": [
       "<div>\n",
       "<style scoped>\n",
       "    .dataframe tbody tr th:only-of-type {\n",
       "        vertical-align: middle;\n",
       "    }\n",
       "\n",
       "    .dataframe tbody tr th {\n",
       "        vertical-align: top;\n",
       "    }\n",
       "\n",
       "    .dataframe thead th {\n",
       "        text-align: right;\n",
       "    }\n",
       "</style>\n",
       "<table border=\"1\" class=\"dataframe\">\n",
       "  <thead>\n",
       "    <tr style=\"text-align: right;\">\n",
       "      <th></th>\n",
       "      <th>Category</th>\n",
       "      <th>Resume</th>\n",
       "      <th>cleaned_resume</th>\n",
       "    </tr>\n",
       "  </thead>\n",
       "  <tbody>\n",
       "    <tr>\n",
       "      <th>0</th>\n",
       "      <td>Data Science</td>\n",
       "      <td>Skills * Programming Languages: Python (pandas...</td>\n",
       "      <td>[skill, programming, language, python, panda, ...</td>\n",
       "    </tr>\n",
       "    <tr>\n",
       "      <th>1</th>\n",
       "      <td>Data Science</td>\n",
       "      <td>Education Details \\r\\nMay 2013 to May 2017 B.E...</td>\n",
       "      <td>[education, detail, may, 2013, may, 2017, b, e...</td>\n",
       "    </tr>\n",
       "    <tr>\n",
       "      <th>2</th>\n",
       "      <td>Data Science</td>\n",
       "      <td>Areas of Interest Deep Learning, Control Syste...</td>\n",
       "      <td>[area, interest, deep, learning, control, syst...</td>\n",
       "    </tr>\n",
       "    <tr>\n",
       "      <th>3</th>\n",
       "      <td>Data Science</td>\n",
       "      <td>Skills Ã¢Â€Â¢ R Ã¢Â€Â¢ Python Ã¢Â€Â¢ SAP HANA ...</td>\n",
       "      <td>[skill, r, python, sap, hana, tableau, sap, ha...</td>\n",
       "    </tr>\n",
       "    <tr>\n",
       "      <th>4</th>\n",
       "      <td>Data Science</td>\n",
       "      <td>Education Details \\r\\n MCA   YMCAUST,  Faridab...</td>\n",
       "      <td>[education, detail, mca, ymcaust, faridabad, h...</td>\n",
       "    </tr>\n",
       "    <tr>\n",
       "      <th>...</th>\n",
       "      <td>...</td>\n",
       "      <td>...</td>\n",
       "      <td>...</td>\n",
       "    </tr>\n",
       "    <tr>\n",
       "      <th>961</th>\n",
       "      <td>Testing</td>\n",
       "      <td>Skill Set OS Windows XP/7/8/8.1/10 Database MY...</td>\n",
       "      <td>[skill, set, o, window, xp, 7, 8, 8, 1, 10, da...</td>\n",
       "    </tr>\n",
       "    <tr>\n",
       "      <th>962</th>\n",
       "      <td>Java Developer</td>\n",
       "      <td>Mustafa Officewala Room no.13, Jaya Apartment,...</td>\n",
       "      <td>[mustafa, officewala, room, 13, jaya, apartmen...</td>\n",
       "    </tr>\n",
       "    <tr>\n",
       "      <th>963</th>\n",
       "      <td>Java Developer</td>\n",
       "      <td>Mustafa Officewala Room no.13, Jaya Apartment,...</td>\n",
       "      <td>[mustafa, officewala, room, 13, jaya, apartmen...</td>\n",
       "    </tr>\n",
       "    <tr>\n",
       "      <th>964</th>\n",
       "      <td>Java Developer</td>\n",
       "      <td>S A R T H A K   C H A U H A N + 9 1 - 7 9 9 0 ...</td>\n",
       "      <td>[r, h, k, c, h, u, h, n, 9, 1, 7, 9, 9, 0, 2, ...</td>\n",
       "    </tr>\n",
       "    <tr>\n",
       "      <th>965</th>\n",
       "      <td>Java Developer</td>\n",
       "      <td>S A R T H A K   C H A U H A N + 9 1 - 7 9 9 0 ...</td>\n",
       "      <td>[r, h, k, c, h, u, h, n, 9, 1, 7, 9, 9, 0, 2, ...</td>\n",
       "    </tr>\n",
       "  </tbody>\n",
       "</table>\n",
       "<p>966 rows × 3 columns</p>\n",
       "</div>"
      ],
      "text/plain": [
       "           Category                                             Resume  \\\n",
       "0      Data Science  Skills * Programming Languages: Python (pandas...   \n",
       "1      Data Science  Education Details \\r\\nMay 2013 to May 2017 B.E...   \n",
       "2      Data Science  Areas of Interest Deep Learning, Control Syste...   \n",
       "3      Data Science  Skills Ã¢Â€Â¢ R Ã¢Â€Â¢ Python Ã¢Â€Â¢ SAP HANA ...   \n",
       "4      Data Science  Education Details \\r\\n MCA   YMCAUST,  Faridab...   \n",
       "..              ...                                                ...   \n",
       "961         Testing  Skill Set OS Windows XP/7/8/8.1/10 Database MY...   \n",
       "962  Java Developer  Mustafa Officewala Room no.13, Jaya Apartment,...   \n",
       "963  Java Developer  Mustafa Officewala Room no.13, Jaya Apartment,...   \n",
       "964  Java Developer  S A R T H A K   C H A U H A N + 9 1 - 7 9 9 0 ...   \n",
       "965  Java Developer  S A R T H A K   C H A U H A N + 9 1 - 7 9 9 0 ...   \n",
       "\n",
       "                                        cleaned_resume  \n",
       "0    [skill, programming, language, python, panda, ...  \n",
       "1    [education, detail, may, 2013, may, 2017, b, e...  \n",
       "2    [area, interest, deep, learning, control, syst...  \n",
       "3    [skill, r, python, sap, hana, tableau, sap, ha...  \n",
       "4    [education, detail, mca, ymcaust, faridabad, h...  \n",
       "..                                                 ...  \n",
       "961  [skill, set, o, window, xp, 7, 8, 8, 1, 10, da...  \n",
       "962  [mustafa, officewala, room, 13, jaya, apartmen...  \n",
       "963  [mustafa, officewala, room, 13, jaya, apartmen...  \n",
       "964  [r, h, k, c, h, u, h, n, 9, 1, 7, 9, 9, 0, 2, ...  \n",
       "965  [r, h, k, c, h, u, h, n, 9, 1, 7, 9, 9, 0, 2, ...  \n",
       "\n",
       "[966 rows x 3 columns]"
      ]
     },
     "execution_count": 15,
     "metadata": {},
     "output_type": "execute_result"
    }
   ],
   "source": [
    "lemmatizer=WordNetLemmatizer()\n",
    "resumeData['cleaned_resume']=resumeData.cleaned_resume.apply(lambda x:[lemmatizer.lemmatize(word) for word in x])\n",
    "resumeData"
   ]
  },
  {
   "cell_type": "code",
   "execution_count": 16,
   "id": "ac29eb0a",
   "metadata": {},
   "outputs": [
    {
     "data": {
      "text/plain": [
       "(966,)"
      ]
     },
     "execution_count": 16,
     "metadata": {},
     "output_type": "execute_result"
    }
   ],
   "source": [
    "resumeData.cleaned_resume= resumeData.cleaned_resume.astype(str)\n",
    "cleaned_resume_list=resumeData['cleaned_resume'].array\n",
    "cleaned_resume_list.shape"
   ]
  },
  {
   "cell_type": "code",
   "execution_count": 17,
   "id": "445bf808",
   "metadata": {},
   "outputs": [],
   "source": [
    "x = resumeData.iloc[:,1].values\n",
    "y = resumeData.iloc[:,0].values\n",
    "from sklearn.model_selection import train_test_split\n",
    "x_train,x_test,y_train,y_test = train_test_split(x,y,random_state=0,test_size=0.03)"
   ]
  },
  {
   "cell_type": "code",
   "execution_count": 18,
   "id": "82ebaeae",
   "metadata": {},
   "outputs": [
    {
     "data": {
      "text/plain": [
       "Pipeline(steps=[('Vect', TfidfVectorizer()), ('model', SVC(probability=True))])"
      ]
     },
     "execution_count": 18,
     "metadata": {},
     "output_type": "execute_result"
    }
   ],
   "source": [
    "from sklearn.feature_extraction.text import TfidfVectorizer\n",
    "from sklearn.pipeline import Pipeline\n",
    "from sklearn.svm import SVC\n",
    "final = Pipeline([('Vect',TfidfVectorizer()), ('model',SVC(probability=True))])\n",
    "final.fit(x_train,y_train)"
   ]
  },
  {
   "cell_type": "code",
   "execution_count": 19,
   "id": "70b2daac",
   "metadata": {},
   "outputs": [],
   "source": [
    "y_pred=final.predict(x_test)"
   ]
  },
  {
   "cell_type": "code",
   "execution_count": 20,
   "id": "abca6661",
   "metadata": {},
   "outputs": [
    {
     "data": {
      "text/plain": [
       "1.0"
      ]
     },
     "execution_count": 20,
     "metadata": {},
     "output_type": "execute_result"
    }
   ],
   "source": [
    "from sklearn.metrics import accuracy_score\n",
    "accuracy_score(y_pred,y_test)"
   ]
  },
  {
   "cell_type": "code",
   "execution_count": 21,
   "id": "71b655d5",
   "metadata": {},
   "outputs": [
    {
     "data": {
      "text/plain": [
       "array(['Health and fitness'], dtype=object)"
      ]
     },
     "execution_count": 21,
     "metadata": {},
     "output_type": "execute_result"
    }
   ],
   "source": [
    "final.predict([x_test[1]])"
   ]
  },
  {
   "cell_type": "code",
   "execution_count": 22,
   "id": "2c2bfb0e",
   "metadata": {},
   "outputs": [
    {
     "name": "stdout",
     "output_type": "stream",
     "text": [
      "Requirement already satisfied: pdfminer.six in c:\\users\\hp\\anaconda3\\lib\\site-packages (20221105)\n",
      "Requirement already satisfied: charset-normalizer>=2.0.0 in c:\\users\\hp\\anaconda3\\lib\\site-packages (from pdfminer.six) (2.0.4)\n",
      "Requirement already satisfied: cryptography>=36.0.0 in c:\\users\\hp\\anaconda3\\lib\\site-packages (from pdfminer.six) (37.0.1)\n",
      "Requirement already satisfied: cffi>=1.12 in c:\\users\\hp\\anaconda3\\lib\\site-packages (from cryptography>=36.0.0->pdfminer.six) (1.15.1)\n",
      "Requirement already satisfied: pycparser in c:\\users\\hp\\anaconda3\\lib\\site-packages (from cffi>=1.12->cryptography>=36.0.0->pdfminer.six) (2.21)\n",
      "Note: you may need to restart the kernel to use updated packages.\n"
     ]
    }
   ],
   "source": [
    "pip install pdfminer.six"
   ]
  },
  {
   "cell_type": "code",
   "execution_count": 23,
   "id": "5106a117",
   "metadata": {},
   "outputs": [],
   "source": [
    "# import pdfminer\n",
    "from pdfminer.high_level import extract_text"
   ]
  },
  {
   "cell_type": "code",
   "execution_count": 24,
   "id": "0c7f45fc",
   "metadata": {},
   "outputs": [
    {
     "name": "stdout",
     "output_type": "stream",
     "text": [
      "S A R T H A K   C H A U H A N + 9 1 - 7 9 9 0 2 0 3 6 7 7 s a r t h a k c h a u h a n 5 7 9 @ g m a i l . c o m L i n k e d I n   P r o f i l e L e e t c o d e   P r o f i l e . E D U C A T I O N Sardar Vallabhbhai National Institute of Technology , Surat. (NIT Surat) B.Tech In Computer Science and Engineering.  CGPA - 8.75 Kendriya Vidyalaya, Vadodara. CBSE Class - 12th.  Score - 92.6% Kendriya Vidyalaya, Shillong. CBSE Class - 10th.  Score - 92% 2020 - 2024 March 2020 March  2018 S K I L L S Languages: C, C++, Python, JavaScript. (DSA in C++). Web Development: MERN Stack (MongoDB, Express Server, React.js, Node.js) Developer Tools and Technologies: jQuery, Bootstrap, Github, and EJS. Core Subjects: Operating Systems, Computer Networks, DBMS, and OOPS. P R O F I L E S : Solved 350+ questions on leetcode with >75% of them in medium and hard categories. link. 600+ coding score on geeksforgeeks practice platform - link. P R O J E C T S : Auction E-Comm Website -  Bringing skilled local artisans online. Oct 22 Team project in MERN Stack + Firebase (Node.js, Express, React, MongoDB, and Firebase) Complete E-Commerce Website with Admin Dashboard, Cart, Payment, Authentication, etc. Real-time auction and self-implemented recommendation system. 3 min Video Demonstration (All India Rank-9 in National Youth Conclave Hackathon IIT-J). Resume Screener - AI and ML (NLP), Flask and JavaScript. Upload your resume and know the most suitable job. Recommends the best job using an AI Model that's trained for Natural Language. Attendance  Tracker - MongoDB, Express, React.js, and Node.js. Apr 23 Feb 23 Attendance made easy. Mark attendance of students with just one click. Features: Pie and Bar Charts to show attendace, nodemailer, both for Admin and students. T E A M W O R K   E X P E R I E N C E : Dec 2021-Mar 2022 Bluelearn - A student community funded by Titan Capitals and others. Worked directly under the founder featured in Forbes 30 under 30. Assisted them in changing to a new dark theme UI (Currently in use) Community size is increased by 110% to 100K+ after changing to the new UI. A C H I E V E M E N T S   A N D   I N T E R E S T S : All India Rank 9 in Youth Conclave National Hackathon held in IIT-Jodhpur. Participated in a national-level Inter-NIT football tournament held in NIT-Rourkela. Freelance work in UI Designing with 5+ clients. - My LinkedIn recommendations. 2 consecutive posts on linkedin about UI got 1 Million+ views - Post link.\n"
     ]
    }
   ],
   "source": [
    "text = extract_text('example.pdf')\n",
    "lines = text.split('\\n') # Split text into lines\n",
    "lines = [line.strip() for line in lines if line.strip()] # Remove empty lines and leading/trailing spaces\n",
    "text = ' '.join(lines) # Join lines with space separator\n",
    "print(text)"
   ]
  },
  {
   "cell_type": "code",
   "execution_count": 25,
   "id": "2ab5b4ab",
   "metadata": {},
   "outputs": [
    {
     "name": "stdout",
     "output_type": "stream",
     "text": [
      "['s a r t h a k c h a u h a n 9 1 7 9 9 0 2 0 3 6 7 7 s a r t h a k c h a u h a n 5 7 9 g m a i l c o m l i n k e d i n p r o f i l e l e e t c o d e p r o f i l e e d u c a t i o n sardar vallabhbhai national institute of technology surat nit surat b tech in computer science and engineering cgpa 8 75 kendriya vidyalaya vadodara cbse class 12th score 92 6 kendriya vidyalaya shillong cbse class 10th score 92 2020 2024 march 2020 march 2018 s k i l l s languages c c python javascript dsa in c web development mern stack mongodb express server react js node js developer tools and technologies jquery bootstrap github and ejs core subjects operating systems computer networks dbms and oops p r o f i l e s solved 350 questions on leetcode with 75 of them in medium and hard categories link 600 coding score on geeksforgeeks practice platform link p r o j e c t s auction e comm website bringing skilled local artisans online oct 22 team project in mern stack firebase node js express react mongodb and firebase complete e commerce website with admin dashboard cart payment authentication etc real time auction and self implemented recommendation system 3 min video demonstration all india rank 9 in national youth conclave hackathon iit j resume screener ai and ml nlp flask and javascript upload your resume and know the most suitable job recommends the best job using an ai model that s trained for natural language attendance tracker mongodb express react js and node js apr 23 feb 23 attendance made easy mark attendance of students with just one click features pie and bar charts to show attendace nodemailer both for admin and students t e a m w o r k e x p e r i e n c e dec 2021 mar 2022 bluelearn a student community funded by titan capitals and others worked directly under the founder featured in forbes 30 under 30 assisted them in changing to a new dark theme ui currently in use community size is increased by 110 to 100k after changing to the new ui a c h i e v e m e n t s a n d i n t e r e s t s all india rank 9 in youth conclave national hackathon held in iit jodhpur participated in a national level inter nit football tournament held in nit rourkela freelance work in ui designing with 5 clients my linkedin recommendations 2 consecutive posts on linkedin about ui got 1 million views post link ']\n"
     ]
    }
   ],
   "source": [
    "cleaned_text = text.lower()\n",
    "cleaned_text = cleanResume(cleaned_text)\n",
    "print([cleaned_text])"
   ]
  },
  {
   "cell_type": "code",
   "execution_count": 26,
   "id": "8bb97510",
   "metadata": {},
   "outputs": [
    {
     "name": "stdout",
     "output_type": "stream",
     "text": [
      "['Java Developer']\n",
      "Java Developer\n"
     ]
    }
   ],
   "source": [
    "predicted=final.predict([cleaned_text])\n",
    "print(predicted)\n",
    "predict = ''.join(predicted)\n",
    "print(predict)"
   ]
  },
  {
   "cell_type": "code",
   "execution_count": 27,
   "id": "5fdd4a8e",
   "metadata": {},
   "outputs": [],
   "source": [
    "import csv\n",
    "with open('ResumeDataSet.csv', 'a') as file:\n",
    "    writer = csv.writer(file)\n",
    "    data = [predict, text]  # List of values to append\n",
    "    writer.writerow([data[0],data[1]])\n",
    "file.close()  # Close the file"
   ]
  },
  {
   "cell_type": "code",
   "execution_count": 28,
   "id": "033aa82b",
   "metadata": {},
   "outputs": [
    {
     "name": "stdout",
     "output_type": "stream",
     "text": [
      "           Category                                             Resume  \\\n",
      "0      Data Science  Skills * Programming Languages: Python (pandas...   \n",
      "1      Data Science  Education Details \\r\\nMay 2013 to May 2017 B.E...   \n",
      "2      Data Science  Areas of Interest Deep Learning, Control Syste...   \n",
      "3      Data Science  Skills Ã¢Â€Â¢ R Ã¢Â€Â¢ Python Ã¢Â€Â¢ SAP HANA ...   \n",
      "4      Data Science  Education Details \\r\\n MCA   YMCAUST,  Faridab...   \n",
      "..              ...                                                ...   \n",
      "962  Java Developer  Mustafa Officewala Room no.13, Jaya Apartment,...   \n",
      "963  Java Developer  Mustafa Officewala Room no.13, Jaya Apartment,...   \n",
      "964  Java Developer  S A R T H A K   C H A U H A N + 9 1 - 7 9 9 0 ...   \n",
      "965  Java Developer  S A R T H A K   C H A U H A N + 9 1 - 7 9 9 0 ...   \n",
      "966  Java Developer  S A R T H A K   C H A U H A N + 9 1 - 7 9 9 0 ...   \n",
      "\n",
      "                                        cleaned_resume  \n",
      "0    ['skill', 'programming', 'language', 'python',...  \n",
      "1    ['education', 'detail', 'may', '2013', 'may', ...  \n",
      "2    ['area', 'interest', 'deep', 'learning', 'cont...  \n",
      "3    ['skill', 'r', 'python', 'sap', 'hana', 'table...  \n",
      "4    ['education', 'detail', 'mca', 'ymcaust', 'far...  \n",
      "..                                                 ...  \n",
      "962  ['mustafa', 'officewala', 'room', '13', 'jaya'...  \n",
      "963  ['mustafa', 'officewala', 'room', '13', 'jaya'...  \n",
      "964  ['r', 'h', 'k', 'c', 'h', 'u', 'h', 'n', '9', ...  \n",
      "965  ['r', 'h', 'k', 'c', 'h', 'u', 'h', 'n', '9', ...  \n",
      "966  s a r t h a k c h a u h a n 9 1 7 9 9 0 2 0 3 ...  \n",
      "\n",
      "[967 rows x 3 columns]\n"
     ]
    }
   ],
   "source": [
    "data1 = [predict,text,cleaned_text]\n",
    "new_row = pd.DataFrame([data1], columns=resumeData.columns)\n",
    "resumeData = resumeData.append(new_row, ignore_index=True)\n",
    "print(resumeData)"
   ]
  },
  {
   "cell_type": "code",
   "execution_count": 29,
   "id": "d444b1ab",
   "metadata": {},
   "outputs": [
    {
     "data": {
      "text/plain": [
       "Index(['Category', 'Resume', 'cleaned_resume'], dtype='object')"
      ]
     },
     "execution_count": 29,
     "metadata": {},
     "output_type": "execute_result"
    }
   ],
   "source": [
    "resumeData.columns"
   ]
  },
  {
   "cell_type": "code",
   "execution_count": 30,
   "id": "029fd69f",
   "metadata": {},
   "outputs": [
    {
     "data": {
      "text/plain": [
       "967"
      ]
     },
     "execution_count": 30,
     "metadata": {},
     "output_type": "execute_result"
    }
   ],
   "source": [
    "len(resumeData)"
   ]
  },
  {
   "cell_type": "code",
   "execution_count": 31,
   "id": "30bc9047",
   "metadata": {},
   "outputs": [],
   "source": [
    "import csv\n",
    "with open('ResumeDataSet.csv', 'a') as file:\n",
    "    for x in range(original_len, len(resumeData)):\n",
    "      writer = csv.writer(file)\n",
    "      data = [resumeData['Category'][x], resumeData['Resume'][x]]  # List of values to append\n",
    "      writer.writerow([data[0],data[1]])\n",
    "file.close()  # Close the file\n",
    "original_len = len(resumeData)"
   ]
  },
  {
   "cell_type": "code",
   "execution_count": 32,
   "id": "fc823607",
   "metadata": {},
   "outputs": [],
   "source": [
    "import pickle"
   ]
  },
  {
   "cell_type": "code",
   "execution_count": 33,
   "id": "593e5ce2",
   "metadata": {},
   "outputs": [],
   "source": [
    "pickle.dump(final,open('model.pkl','wb'))\n",
    "model=pickle.load(open('model.pkl','rb'))"
   ]
  },
  {
   "cell_type": "code",
   "execution_count": null,
   "id": "817774b4",
   "metadata": {},
   "outputs": [],
   "source": []
  }
 ],
 "metadata": {
  "kernelspec": {
   "display_name": "Python 3 (ipykernel)",
   "language": "python",
   "name": "python3"
  },
  "language_info": {
   "codemirror_mode": {
    "name": "ipython",
    "version": 3
   },
   "file_extension": ".py",
   "mimetype": "text/x-python",
   "name": "python",
   "nbconvert_exporter": "python",
   "pygments_lexer": "ipython3",
   "version": "3.9.13"
  }
 },
 "nbformat": 4,
 "nbformat_minor": 5
}
